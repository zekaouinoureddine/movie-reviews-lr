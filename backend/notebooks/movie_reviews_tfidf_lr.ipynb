{
  "nbformat": 4,
  "nbformat_minor": 0,
  "metadata": {
    "colab": {
      "name": "tfidf_lr.ipynb",
      "provenance": [],
      "collapsed_sections": []
    },
    "kernelspec": {
      "name": "python3",
      "display_name": "Python 3"
    },
    "language_info": {
      "name": "python"
    }
  },
  "cells": [
    {
      "cell_type": "markdown",
      "metadata": {
        "id": "Q2TmnfGnX_xI"
      },
      "source": [
        "---\n",
        "<h1 align=\"center\"><strong>Movie Review Classification</strong></h1>\n",
        "<h4 align=\"center\">TF-IDF & Logistic Regression</h4>\n",
        "\n",
        "---"
      ]
    },
    {
      "cell_type": "markdown",
      "metadata": {
        "id": "NkB89zRRYlwq"
      },
      "source": [
        "### Required Libraries"
      ]
    },
    {
      "cell_type": "code",
      "metadata": {
        "id": "GD_UWV_-d_t8",
        "colab": {
          "base_uri": "https://localhost:8080/"
        },
        "outputId": "993769f0-7d57-46de-d846-5b2410f697fc"
      },
      "source": [
        "import numpy as np\n",
        "import pandas as pd\n",
        "\n",
        "import seaborn as sns\n",
        "import matplotlib.pyplot as plt\n",
        "\n",
        "from sklearn.feature_extraction.text import TfidfVectorizer\n",
        "from sklearn.model_selection import train_test_split \n",
        "from sklearn.linear_model import LogisticRegression\n",
        "from sklearn import metrics\n",
        "\n",
        "import time\n",
        "import re\n",
        "import pickle\n",
        "import nltk\n",
        "from nltk.stem import PorterStemmer, WordNetLemmatizer\n",
        "nltk.download('stopwords')\n",
        "nltk.download('wordnet')\n",
        "\n",
        "%matplotlib inline"
      ],
      "execution_count": 1,
      "outputs": [
        {
          "output_type": "stream",
          "name": "stdout",
          "text": [
            "[nltk_data] Downloading package stopwords to /root/nltk_data...\n",
            "[nltk_data]   Unzipping corpora/stopwords.zip.\n",
            "[nltk_data] Downloading package wordnet to /root/nltk_data...\n",
            "[nltk_data]   Unzipping corpora/wordnet.zip.\n"
          ]
        }
      ]
    },
    {
      "cell_type": "markdown",
      "metadata": {
        "id": "jHGea5GyYwhS"
      },
      "source": [
        "### Data Preparation"
      ]
    },
    {
      "cell_type": "code",
      "metadata": {
        "id": "5pWUY0weeqSr",
        "colab": {
          "base_uri": "https://localhost:8080/"
        },
        "outputId": "89236cf2-6420-44f3-909a-3740fc0d783a"
      },
      "source": [
        "!gdown --id 1qaw9jL-KpuSsjeP3K_2hc2mkrn9bdGJN -q\n",
        "!unzip \"IMDB Dataset.csv.zip\" -d data"
      ],
      "execution_count": 2,
      "outputs": [
        {
          "output_type": "stream",
          "name": "stdout",
          "text": [
            "Archive:  IMDB Dataset.csv.zip\n",
            "  inflating: data/IMDB Dataset.csv   \n"
          ]
        }
      ]
    },
    {
      "cell_type": "code",
      "metadata": {
        "id": "jxPMRbTqeLKs"
      },
      "source": [
        "df = pd.read_csv(\"data/IMDB Dataset.csv\")\n",
        "df = df[:1000]"
      ],
      "execution_count": 3,
      "outputs": []
    },
    {
      "cell_type": "code",
      "metadata": {
        "colab": {
          "base_uri": "https://localhost:8080/",
          "height": 368
        },
        "id": "l0nmdtGZ5CqP",
        "outputId": "3f29e667-f7c2-4664-acde-b0d15abbb9f0"
      },
      "source": [
        "# Display distribution of Postive and Negative reviews.\n",
        "df[\"sentiment\"].value_counts().plot(kind='bar',\n",
        "                                    color=['green','red'],\n",
        "                                    title='Distribution of Positive and Negative Reviews',\n",
        "                                    figsize=(5,5));"
      ],
      "execution_count": 4,
      "outputs": [
        {
          "output_type": "display_data",
          "data": {
            "image/png": "[encoded data removed]",
            "text/plain": [
              "<Figure size 360x360 with 1 Axes>"
            ]
          },
          "metadata": {
            "needs_background": "light"
          }
        }
      ]
    },
    {
      "cell_type": "code",
      "metadata": {
        "id": "TKZHhoKS525D"
      },
      "source": [
        "def decontracted(x):\n",
        "  x = str(x).lower()\n",
        "  x = x.replace(\",000,000\", \" m\").replace(\",000\", \" k\").replace(\"′\", \"'\").replace(\"’\", \"'\")\\\n",
        "  .replace(\"won't\", \" will not\").replace(\"cannot\", \" can not\").replace(\"can't\", \" can not\")\\\n",
        "  .replace(\"n't\", \" not\").replace(\"what's\", \" what is\").replace(\"it's\", \" it is\")\\\n",
        "  .replace(\"'ve\", \" have\").replace(\"'m\", \" am\").replace(\"'re\", \" are\")\\\n",
        "  .replace(\"he's\", \" he is\").replace(\"she's\", \" she is\").replace(\"'s\", \" own\")\\\n",
        "  .replace(\"%\", \" percent \").replace(\"₹\", \" rupee \").replace(\"$\", \" dollar \")\\\n",
        "  .replace(\"€\", \" euro \").replace(\"'ll\", \" will\").replace(\"how's\",\" how has\").replace(\"y'all\",\" you all\")\\\n",
        "  .replace(\"o'clock\",\" of the clock\").replace(\"ne'er\",\" never\").replace(\"let's\",\" let us\")\\\n",
        "  .replace(\"finna\",\" fixing to\").replace(\"gonna\",\" going to\").replace(\"gimme\",\" give me\").replace(\"gotta\",\" got to\").replace(\"'d\",\" would\")\\\n",
        "  .replace(\"daresn't\",\" dare not\").replace(\"dasn't\",\" dare not\").replace(\"e'er\",\" ever\").replace(\"everyone's\",\" everyone is\")\\\n",
        "  .replace(\"'cause'\",\" because\")\n",
        "    \n",
        "  x = re.sub(r\"([0-9]+)000000\", r\"\\1m\", x)\n",
        "  x = re.sub(r\"([0-9]+)000\", r\"\\1k\", x)\n",
        "  return x"
      ],
      "execution_count": 5,
      "outputs": []
    },
    {
      "cell_type": "code",
      "metadata": {
        "id": "WsS3MZOBfPuR"
      },
      "source": [
        "def remove_html(sentence): \n",
        "  pattern = re.compile('<.*?>')\n",
        "  cleaned_sentence = re.sub(pattern,' ',sentence)\n",
        "  return cleaned_sentence\n",
        "\n",
        "def remove_url(sentence):\n",
        "  text = re.sub(r\"http\\S+\", \" \", sentence)\n",
        "  cleaned_sentence = re.sub(r\"www.\\S+\", \" \", text)\n",
        "  return cleaned_sentence\n",
        "\n",
        "def remove_punctuations(sentence):\n",
        "  cleaned_sentence  = re.sub('[^a-zA-Z]',' ',sentence)\n",
        "  return cleaned_sentence\n",
        "\n",
        "def remove_patterns(sentence): \n",
        "  cleaned_sentence = re.sub(\"\\\\s*\\\\b(?=\\\\w*(\\\\w)\\\\1{2,})\\\\w*\\\\b\",' ',sentence)\n",
        "  return cleaned_sentence\n",
        "\n",
        "def remove_stopwords(sentence):\n",
        "  default_stopwords = set(nltk.corpus.stopwords.words('english'))\n",
        "  remove_not = set(['no', 'nor', 'not'])\n",
        "  custom_stopwords = default_stopwords - remove_not\n",
        "  review = [words.lower() for words in sentence.split() if words not in custom_stopwords]\n",
        "  cleaned_sentence = \" \".join(review)\n",
        "  return cleaned_sentence\n",
        "\n",
        "def stem_text(sentence):\n",
        "  stemmer = PorterStemmer()\n",
        "  stemmed_sentence = stemmer.stem(sentence)\n",
        "  return stemmed_sentence\n",
        "\n",
        "def lemmatize_text(sentence):\n",
        "  lemmatizer = WordNetLemmatizer()\n",
        "  lemmatized_sentence = lemmatizer.lemmatize(sentence)\n",
        "  return lemmatized_sentence\n",
        "\n",
        "def clean_data(sentence):\n",
        "  cleaned_sentence = lemmatize_text(stem_text(remove_stopwords(remove_patterns(remove_punctuations(remove_url(remove_html(decontracted(sentence))))))))\n",
        "  return cleaned_sentence"
      ],
      "execution_count": 6,
      "outputs": []
    },
    {
      "cell_type": "code",
      "metadata": {
        "id": "3kTVxFdcgHDM"
      },
      "source": [
        "def preprocess_data(df):\n",
        "\n",
        "  # Cleaning -- Stemming --Lemmetization\n",
        "  df[\"review\"] = df[\"review\"].apply(clean_data)\n",
        "\n",
        "  # # Stemming\n",
        "  # stemmer = PorterStemmer()\n",
        "  # df[\"review\"] = df[\"review\"].apply(stemmer.stem)\n",
        "\n",
        "  # # Lemmetization\n",
        "  # lemmatizer = WordNetLemmatizer()\n",
        "  # df[\"review\"] = df[\"review\"].apply(lemmatizer.lemmatize)\n",
        "\n",
        "  # Encode sentiments\n",
        "  df[\"sentiment\"].replace([\"positive\", \"negative\"], [1, 0], inplace=True)\n",
        "  \n",
        "  return df"
      ],
      "execution_count": 7,
      "outputs": []
    },
    {
      "cell_type": "code",
      "metadata": {
        "id": "9l3nSr20qfy3"
      },
      "source": [
        "df = preprocess_data(df)"
      ],
      "execution_count": 8,
      "outputs": []
    },
    {
      "cell_type": "code",
      "metadata": {
        "id": "JHmqmZSBqkKH"
      },
      "source": [
        "vectorizer = TfidfVectorizer(min_df=2,\n",
        "                             max_df=0.5,\n",
        "                             ngram_range=(1,2))\n",
        "\n",
        "x = vectorizer.fit_transform(df['review'])\n",
        "y =  df['sentiment']"
      ],
      "execution_count": 9,
      "outputs": []
    },
    {
      "cell_type": "code",
      "metadata": {
        "id": "WRhXfwVkv9PB"
      },
      "source": [
        "x_train, x_test, y_train, y_test = train_test_split(x, y, test_size=0.2)"
      ],
      "execution_count": 10,
      "outputs": []
    },
    {
      "cell_type": "markdown",
      "metadata": {
        "id": "RQ7WAjeFY7EG"
      },
      "source": [
        "### Model Training"
      ]
    },
    {
      "cell_type": "code",
      "metadata": {
        "colab": {
          "base_uri": "https://localhost:8080/"
        },
        "id": "y-mSavupyFnJ",
        "outputId": "8626bbe6-6614-4eca-e770-93581de43930"
      },
      "source": [
        "start = time.time()\n",
        "\n",
        "clf = LogisticRegression(random_state=0, solver='lbfgs')\n",
        "clf.fit(x_train, y_train)\n",
        "\n",
        "end = time.time()\n",
        "duration = end - start\n",
        "print ('\\n This Model took %0.2f seconds (%0.1f minutes) to train'%(duration, duration/60) )"
      ],
      "execution_count": 11,
      "outputs": [
        {
          "output_type": "stream",
          "name": "stdout",
          "text": [
            "\n",
            " This Model took 0.11 seconds (0.0 minutes) to train\n"
          ]
        }
      ]
    },
    {
      "cell_type": "markdown",
      "metadata": {
        "id": "5DJhFnWkZLLW"
      },
      "source": [
        "### Model Evaluation"
      ]
    },
    {
      "cell_type": "code",
      "metadata": {
        "colab": {
          "base_uri": "https://localhost:8080/",
          "height": 705
        },
        "id": "VkLVZplX2J77",
        "outputId": "c8266263-1ff0-4975-8fe2-c9603b15e4f4"
      },
      "source": [
        "y_pred = clf.predict(x_test)\n",
        "\n",
        "print(\"===\"*50)\n",
        "print(\"\\nPerformance metrics\\n\")\n",
        "print(\"Accuracy score : \", metrics.accuracy_score(y_test, y_pred))\n",
        "print(\"Precision score: \", metrics.precision_score(y_test, y_pred))\n",
        "print(\"Recall score   : \", metrics.recall_score(y_test, y_pred))\n",
        "print(\"F1 score       : \", metrics.f1_score(y_test, y_pred))\n",
        "\n",
        "print(\"===\"*50)\n",
        "print(\"\\nClassification report \\n\\n\", metrics.classification_report(y_test, y_pred))\n",
        "\n",
        "print(\"===\"*50)\n",
        "cm = metrics.confusion_matrix(y_test, y_pred)\n",
        "fig, ax = plt.subplots()\n",
        "sns.heatmap(cm, annot=True, fmt='d', ax=ax, cmap=plt.cm.Blues, cbar=False)\n",
        "ax.set(xlabel=\"Predicted Label\", \n",
        "       ylabel=\"True Label\", \n",
        "       xticklabels=np.unique(y_test), \n",
        "       yticklabels=np.unique(y_test), \n",
        "       title=\"CONFUSION MATRIX\")\n",
        "plt.yticks(rotation=0);"
      ],
      "execution_count": 12,
      "outputs": [
        {
          "output_type": "stream",
          "name": "stdout",
          "text": [
            "======================================================================================================================================================\n",
            "\n",
            "Performance metrics\n",
            "\n",
            "Accuracy score :  0.86\n",
            "Precision score:  0.8865979381443299\n",
            "Recall score   :  0.8349514563106796\n",
            "F1 score       :  0.86\n",
            "======================================================================================================================================================\n",
            "\n",
            "Classification report \n",
            "\n",
            "               precision    recall  f1-score   support\n",
            "\n",
            "           0       0.83      0.89      0.86        97\n",
            "           1       0.89      0.83      0.86       103\n",
            "\n",
            "    accuracy                           0.86       200\n",
            "   macro avg       0.86      0.86      0.86       200\n",
            "weighted avg       0.86      0.86      0.86       200\n",
            "\n",
            "======================================================================================================================================================\n"
          ]
        },
        {
          "output_type": "display_data",
          "data": {
            "image/png": "[encoded data removed]",
            "text/plain": [
              "<Figure size 432x288 with 1 Axes>"
            ]
          },
          "metadata": {
            "needs_background": "light"
          }
        }
      ]
    },
    {
      "cell_type": "markdown",
      "metadata": {
        "id": "oeqpbkpEZEFl"
      },
      "source": [
        "### Inference"
      ]
    },
    {
      "cell_type": "code",
      "metadata": {
        "id": "KyG4p92c7J42"
      },
      "source": [
        "file = open('tfidfVectorizer.pickle','wb')\n",
        "pickle.dump(vectorizer, file)\n",
        "file.close()\n",
        "\n",
        "file = open('lrModel.pickle','wb')\n",
        "pickle.dump(clf, file)\n",
        "file.close()"
      ],
      "execution_count": 13,
      "outputs": []
    },
    {
      "cell_type": "code",
      "metadata": {
        "id": "qkBePN8m9HRF"
      },
      "source": [
        "# predictions = clf.predict(x_test)\n",
        "# output = pd.DataFrame({'review': x_test, 'sentiment': predictions})\n",
        "# output.to_csv('my_submission.csv', index=False)\n",
        "# print(\"Your submission was successfully saved!\")"
      ],
      "execution_count": 14,
      "outputs": []
    },
    {
      "cell_type": "code",
      "metadata": {
        "id": "_xmJNwDUCYwF"
      },
      "source": [
        "def get_review_sentiment(review, vectorizer, model):\n",
        "  review = clean_data(review)\n",
        "  review = vectorizer.transform([review])\n",
        "  sentiment = model.predict(review)\n",
        "  probability = model.predict_proba(review)\n",
        "\n",
        "  return {\n",
        "      \"Sentiment\" : \"Positive\" if sentiment==1 else \"Negative\",\n",
        "      \"Positive prediction\" : probability[0][1],\n",
        "      \"Negative prediction\" : probability[0][0]\n",
        "      }"
      ],
      "execution_count": 15,
      "outputs": []
    },
    {
      "cell_type": "code",
      "metadata": {
        "colab": {
          "base_uri": "https://localhost:8080/"
        },
        "id": "2XJgJ7aDKbzw",
        "outputId": "7dfaa4da-9574-4629-ae76-39cd61d5c685"
      },
      "source": [
        "# Load saved models\n",
        "vectorizer = pickle.load(open(\"tfidfVectorizer.pickle\", \"rb\"))\n",
        "model = pickle.load(open(\"lrModel.pickle\", \"rb\"))\n",
        "\n",
        "# Movie review\n",
        "review = \"this is a fucking bad movie\"\n",
        "\n",
        "print(get_review_sentiment(review, vectorizer, model))"
      ],
      "execution_count": 16,
      "outputs": [
        {
          "output_type": "stream",
          "name": "stdout",
          "text": [
            "{'Sentiment': 'Negative', 'Positive prediction': 0.3303717624732253, 'Negative prediction': 0.6696282375267747}\n"
          ]
        }
      ]
    },
    {
      "cell_type": "code",
      "metadata": {
        "colab": {
          "base_uri": "https://localhost:8080/"
        },
        "id": "dq6R11xJLhYf",
        "outputId": "73d84f8e-9722-4493-da02-31623684fc9e"
      },
      "source": [
        "review = \"very good and wonderful movie\"\n",
        "\n",
        "print(get_review_sentiment(review, vectorizer, model))"
      ],
      "execution_count": 17,
      "outputs": [
        {
          "output_type": "stream",
          "name": "stdout",
          "text": [
            "{'Sentiment': 'Positive', 'Positive prediction': 0.6481414958873507, 'Negative prediction': 0.3518585041126493}\n"
          ]
        }
      ]
    },
    {
      "cell_type": "code",
      "metadata": {
        "id": "5WZrlKZceknz"
      },
      "source": [
        ""
      ],
      "execution_count": 17,
      "outputs": []
    }
  ]
}